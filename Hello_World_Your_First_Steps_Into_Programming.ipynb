{
  "cells": [
    {
      "cell_type": "code",
      "execution_count": null,
      "metadata": {
        "colab": {
          "base_uri": "https://localhost:8080/"
        },
        "id": "OCa2fvqYUQzv",
        "outputId": "2cb3597e-5dfe-460c-c0e1-38a136302e59"
      },
      "outputs": [
        {
          "name": "stdout",
          "output_type": "stream",
          "text": [
            "Hello World !\n"
          ]
        }
      ],
      "source": [
        "print(\"Hello World !\")"
      ]
    },
    {
      "cell_type": "code",
      "execution_count": null,
      "metadata": {
        "colab": {
          "base_uri": "https://localhost:8080/"
        },
        "id": "reaUVBV3a5kk",
        "outputId": "d8f5cd34-9744-4fbb-d09f-3a2d877dc831"
      },
      "outputs": [
        {
          "name": "stdout",
          "output_type": "stream",
          "text": [
            "23\n"
          ]
        }
      ],
      "source": [
        "a = 23\n",
        "print(a)"
      ]
    },
    {
      "cell_type": "code",
      "execution_count": null,
      "metadata": {
        "colab": {
          "base_uri": "https://localhost:8080/"
        },
        "id": "o8ROjVD5Zvtb",
        "outputId": "9c82152a-7644-4b01-a94a-5b5a4c25b3cc"
      },
      "outputs": [
        {
          "name": "stdout",
          "output_type": "stream",
          "text": [
            "Talha\n",
            "T\n"
          ]
        }
      ],
      "source": [
        "variable_1 = \"Talha\"\n",
        "print(variable_1)\n",
        "print(variable_1[0])"
      ]
    },
    {
      "cell_type": "code",
      "execution_count": null,
      "metadata": {
        "colab": {
          "base_uri": "https://localhost:8080/"
        },
        "id": "3jsIQqqtZ2mc",
        "outputId": "b006bf83-2c3e-4b5c-ad92-3dcbcc1cc848"
      },
      "outputs": [
        {
          "name": "stdout",
          "output_type": "stream",
          "text": [
            "Talha Irfan, 20\n",
            "3\n"
          ]
        }
      ],
      "source": [
        "list = [\"Talha\", \"Irfan\", 20]\n",
        "\n",
        "print(list[0] + \" \" + list[1] + \", \" + str(list[2]))\n",
        "print(len(list))"
      ]
    },
    {
      "cell_type": "code",
      "execution_count": null,
      "metadata": {
        "colab": {
          "base_uri": "https://localhost:8080/"
        },
        "id": "3tIdriO1bR-b",
        "outputId": "65b97b3d-607a-467c-c4d3-5d048c871bb8"
      },
      "outputs": [
        {
          "data": {
            "text/plain": [
              "1"
            ]
          },
          "execution_count": 25,
          "metadata": {},
          "output_type": "execute_result"
        }
      ],
      "source": [
        "10 % 3"
      ]
    },
    {
      "cell_type": "code",
      "execution_count": null,
      "metadata": {
        "colab": {
          "base_uri": "https://localhost:8080/"
        },
        "id": "ulD_V00ac0iY",
        "outputId": "6e653050-9ade-4cdf-b1f4-4b198dc83cc7"
      },
      "outputs": [
        {
          "name": "stdout",
          "output_type": "stream",
          "text": [
            "a is 23\n"
          ]
        }
      ],
      "source": [
        "if a == 23:\n",
        "  print(\"a is \" + str(a))\n",
        "else:\n",
        "  print(\"a is not \" + str(a))"
      ]
    },
    {
      "cell_type": "code",
      "execution_count": null,
      "metadata": {
        "colab": {
          "base_uri": "https://localhost:8080/"
        },
        "id": "IHtZ48dmdyGR",
        "outputId": "445bd4e9-1bd4-4141-8705-94f233bfeb30"
      },
      "outputs": [
        {
          "name": "stdout",
          "output_type": "stream",
          "text": [
            "0\n",
            "2\n",
            "3\n",
            "4\n"
          ]
        }
      ],
      "source": [
        "for num in range(0, 5):\n",
        "  if num == 1:\n",
        "    continue\n",
        "  print(num)\n"
      ]
    },
    {
      "cell_type": "code",
      "execution_count": null,
      "metadata": {
        "colab": {
          "base_uri": "https://localhost:8080/"
        },
        "id": "hBUpJQufe2CW",
        "outputId": "7ccd4e15-c5e1-401d-812d-ff4c3a451373"
      },
      "outputs": [
        {
          "name": "stdout",
          "output_type": "stream",
          "text": [
            "0\n",
            "2\n",
            "3\n",
            "4\n",
            "5\n",
            "6\n",
            "7\n",
            "8\n"
          ]
        }
      ],
      "source": [
        "def fun(parameter):\n",
        "  for num in range(0, parameter):\n",
        "    if num == 1:\n",
        "      continue\n",
        "    print(num)\n",
        "\n",
        "fun(9)"
      ]
    },
    {
      "cell_type": "code",
      "execution_count": 1,
      "metadata": {
        "colab": {
          "base_uri": "https://localhost:8080/"
        },
        "id": "50sMgVIch0x-",
        "outputId": "cdf3b239-b12a-43e4-ad28-26f53d8ad43a"
      },
      "outputs": [
        {
          "name": "stdout",
          "output_type": "stream",
          "text": [
            "Welcome to the calculator program!\n",
            "Here are the available operators:\n",
            "+ for addition\n",
            "- for subtraction\n",
            "* for multiplication\n",
            "/ for division\n",
            "% for modulo\n",
            "** for exponentiation\n",
            "q to quit\n",
            "The result is: 9\n"
          ]
        }
      ],
      "source": [
        "def calc(operator, num1, num2):\n",
        "    if (operator == \"+\"):\n",
        "        return num1 + num2\n",
        "\n",
        "    elif (operator == \"-\"):\n",
        "        return num1 - num2\n",
        "\n",
        "    elif (operator == \"*\"):\n",
        "        return num1 * num2\n",
        "\n",
        "    elif (operator == \"/\"):\n",
        "        return num1 / num2\n",
        "\n",
        "    elif (operator == \"%\"):\n",
        "        return num1 % num2\n",
        "\n",
        "    elif (operator == \"**\"):\n",
        "        return num1 ** num2\n",
        "\n",
        "    else:\n",
        "        return \"Invalid operator\"\n",
        "\n",
        "print(\"Welcome to the calculator program!\")\n",
        "\n",
        "print(\"Here are the available operators:\")\n",
        "print(\"+ for addition\")\n",
        "print(\"- for subtraction\")\n",
        "print(\"* for multiplication\")\n",
        "print(\"/ for division\")\n",
        "print(\"% for modulo\")\n",
        "print(\"** for exponentiation\")\n",
        "print(\"q to quit\")\n",
        "\n",
        "while (True):\n",
        "    op = input(\"Enter the operator: \")\n",
        "    if (op == \"q\"):\n",
        "      break\n",
        "    num1 = input(\"Enter the first number: \")\n",
        "    num2 = input(\"Enter the second number: \")\n",
        "    print(\"The result is: \" + str(calc(op, int(num1), int(num2))))"
      ]
    }
  ],
  "metadata": {
    "colab": {
      "provenance": []
    },
    "kernelspec": {
      "display_name": "Python 3",
      "name": "python3"
    },
    "language_info": {
      "codemirror_mode": {
        "name": "ipython",
        "version": 3
      },
      "file_extension": ".py",
      "mimetype": "text/x-python",
      "name": "python",
      "nbconvert_exporter": "python",
      "pygments_lexer": "ipython3",
      "version": "3.11.6"
    }
  },
  "nbformat": 4,
  "nbformat_minor": 0
}
